{
 "cells": [
  {
   "cell_type": "code",
   "execution_count": 1,
   "id": "1e428b85",
   "metadata": {
    "execution": {
     "iopub.execute_input": "2022-03-06T14:16:16.489745Z",
     "iopub.status.busy": "2022-03-06T14:16:16.487926Z",
     "iopub.status.idle": "2022-03-06T14:16:18.345353Z",
     "shell.execute_reply": "2022-03-06T14:16:18.345958Z",
     "shell.execute_reply.started": "2022-03-06T14:15:03.982264Z"
    },
    "papermill": {
     "duration": 1.900657,
     "end_time": "2022-03-06T14:16:18.346245",
     "exception": false,
     "start_time": "2022-03-06T14:16:16.445588",
     "status": "completed"
    },
    "tags": []
   },
   "outputs": [],
   "source": [
    "import numpy as np \n",
    "import pandas as pd\n",
    "import matplotlib.pyplot as plt\n",
    "import seaborn as sns\n",
    "import statsmodels.api as sm\n",
    "from sklearn.metrics import accuracy_score\n",
    "from sklearn.preprocessing import StandardScaler\n",
    "import warnings\n",
    "warnings.filterwarnings('ignore')  "
   ]
  },
  {
   "cell_type": "code",
   "execution_count": 2,
   "id": "72894f9e",
   "metadata": {
    "execution": {
     "iopub.execute_input": "2022-03-06T14:16:18.425546Z",
     "iopub.status.busy": "2022-03-06T14:16:18.424797Z",
     "iopub.status.idle": "2022-03-06T14:16:18.439578Z",
     "shell.execute_reply": "2022-03-06T14:16:18.440132Z",
     "shell.execute_reply.started": "2022-03-06T14:15:03.989761Z"
    },
    "papermill": {
     "duration": 0.055879,
     "end_time": "2022-03-06T14:16:18.440335",
     "exception": false,
     "start_time": "2022-03-06T14:16:18.384456",
     "status": "completed"
    },
    "tags": []
   },
   "outputs": [],
   "source": [
    "data=pd.read_csv('../input/titanic/train.csv')"
   ]
  },
  {
   "cell_type": "code",
   "execution_count": 3,
   "id": "72930873",
   "metadata": {
    "execution": {
     "iopub.execute_input": "2022-03-06T14:16:18.515408Z",
     "iopub.status.busy": "2022-03-06T14:16:18.514795Z",
     "iopub.status.idle": "2022-03-06T14:16:18.536637Z",
     "shell.execute_reply": "2022-03-06T14:16:18.537138Z",
     "shell.execute_reply.started": "2022-03-06T14:15:04.018711Z"
    },
    "papermill": {
     "duration": 0.060432,
     "end_time": "2022-03-06T14:16:18.537307",
     "exception": false,
     "start_time": "2022-03-06T14:16:18.476875",
     "status": "completed"
    },
    "tags": []
   },
   "outputs": [
    {
     "data": {
      "text/html": [
       "<div>\n",
       "<style scoped>\n",
       "    .dataframe tbody tr th:only-of-type {\n",
       "        vertical-align: middle;\n",
       "    }\n",
       "\n",
       "    .dataframe tbody tr th {\n",
       "        vertical-align: top;\n",
       "    }\n",
       "\n",
       "    .dataframe thead th {\n",
       "        text-align: right;\n",
       "    }\n",
       "</style>\n",
       "<table border=\"1\" class=\"dataframe\">\n",
       "  <thead>\n",
       "    <tr style=\"text-align: right;\">\n",
       "      <th></th>\n",
       "      <th>PassengerId</th>\n",
       "      <th>Survived</th>\n",
       "      <th>Pclass</th>\n",
       "      <th>Name</th>\n",
       "      <th>Sex</th>\n",
       "      <th>Age</th>\n",
       "      <th>SibSp</th>\n",
       "      <th>Parch</th>\n",
       "      <th>Ticket</th>\n",
       "      <th>Fare</th>\n",
       "      <th>Cabin</th>\n",
       "      <th>Embarked</th>\n",
       "    </tr>\n",
       "  </thead>\n",
       "  <tbody>\n",
       "    <tr>\n",
       "      <th>0</th>\n",
       "      <td>1</td>\n",
       "      <td>0</td>\n",
       "      <td>3</td>\n",
       "      <td>Braund, Mr. Owen Harris</td>\n",
       "      <td>male</td>\n",
       "      <td>22.0</td>\n",
       "      <td>1</td>\n",
       "      <td>0</td>\n",
       "      <td>A/5 21171</td>\n",
       "      <td>7.2500</td>\n",
       "      <td>NaN</td>\n",
       "      <td>S</td>\n",
       "    </tr>\n",
       "    <tr>\n",
       "      <th>1</th>\n",
       "      <td>2</td>\n",
       "      <td>1</td>\n",
       "      <td>1</td>\n",
       "      <td>Cumings, Mrs. John Bradley (Florence Briggs Th...</td>\n",
       "      <td>female</td>\n",
       "      <td>38.0</td>\n",
       "      <td>1</td>\n",
       "      <td>0</td>\n",
       "      <td>PC 17599</td>\n",
       "      <td>71.2833</td>\n",
       "      <td>C85</td>\n",
       "      <td>C</td>\n",
       "    </tr>\n",
       "    <tr>\n",
       "      <th>2</th>\n",
       "      <td>3</td>\n",
       "      <td>1</td>\n",
       "      <td>3</td>\n",
       "      <td>Heikkinen, Miss. Laina</td>\n",
       "      <td>female</td>\n",
       "      <td>26.0</td>\n",
       "      <td>0</td>\n",
       "      <td>0</td>\n",
       "      <td>STON/O2. 3101282</td>\n",
       "      <td>7.9250</td>\n",
       "      <td>NaN</td>\n",
       "      <td>S</td>\n",
       "    </tr>\n",
       "    <tr>\n",
       "      <th>3</th>\n",
       "      <td>4</td>\n",
       "      <td>1</td>\n",
       "      <td>1</td>\n",
       "      <td>Futrelle, Mrs. Jacques Heath (Lily May Peel)</td>\n",
       "      <td>female</td>\n",
       "      <td>35.0</td>\n",
       "      <td>1</td>\n",
       "      <td>0</td>\n",
       "      <td>113803</td>\n",
       "      <td>53.1000</td>\n",
       "      <td>C123</td>\n",
       "      <td>S</td>\n",
       "    </tr>\n",
       "    <tr>\n",
       "      <th>4</th>\n",
       "      <td>5</td>\n",
       "      <td>0</td>\n",
       "      <td>3</td>\n",
       "      <td>Allen, Mr. William Henry</td>\n",
       "      <td>male</td>\n",
       "      <td>35.0</td>\n",
       "      <td>0</td>\n",
       "      <td>0</td>\n",
       "      <td>373450</td>\n",
       "      <td>8.0500</td>\n",
       "      <td>NaN</td>\n",
       "      <td>S</td>\n",
       "    </tr>\n",
       "  </tbody>\n",
       "</table>\n",
       "</div>"
      ],
      "text/plain": [
       "   PassengerId  Survived  Pclass  \\\n",
       "0            1         0       3   \n",
       "1            2         1       1   \n",
       "2            3         1       3   \n",
       "3            4         1       1   \n",
       "4            5         0       3   \n",
       "\n",
       "                                                Name     Sex   Age  SibSp  \\\n",
       "0                            Braund, Mr. Owen Harris    male  22.0      1   \n",
       "1  Cumings, Mrs. John Bradley (Florence Briggs Th...  female  38.0      1   \n",
       "2                             Heikkinen, Miss. Laina  female  26.0      0   \n",
       "3       Futrelle, Mrs. Jacques Heath (Lily May Peel)  female  35.0      1   \n",
       "4                           Allen, Mr. William Henry    male  35.0      0   \n",
       "\n",
       "   Parch            Ticket     Fare Cabin Embarked  \n",
       "0      0         A/5 21171   7.2500   NaN        S  \n",
       "1      0          PC 17599  71.2833   C85        C  \n",
       "2      0  STON/O2. 3101282   7.9250   NaN        S  \n",
       "3      0            113803  53.1000  C123        S  \n",
       "4      0            373450   8.0500   NaN        S  "
      ]
     },
     "execution_count": 3,
     "metadata": {},
     "output_type": "execute_result"
    }
   ],
   "source": [
    "data.head()"
   ]
  },
  {
   "cell_type": "code",
   "execution_count": 4,
   "id": "a77e63db",
   "metadata": {
    "execution": {
     "iopub.execute_input": "2022-03-06T14:16:18.614334Z",
     "iopub.status.busy": "2022-03-06T14:16:18.613713Z",
     "iopub.status.idle": "2022-03-06T14:16:18.623595Z",
     "shell.execute_reply": "2022-03-06T14:16:18.624123Z",
     "shell.execute_reply.started": "2022-03-06T14:15:04.038818Z"
    },
    "papermill": {
     "duration": 0.050247,
     "end_time": "2022-03-06T14:16:18.624298",
     "exception": false,
     "start_time": "2022-03-06T14:16:18.574051",
     "status": "completed"
    },
    "tags": []
   },
   "outputs": [],
   "source": [
    "#Columns of 'Name','PassengerId','Ticket''Embarked','Cabin' are not importannt, so we drop them.\n",
    "data.drop(['Name','PassengerId','Ticket','Cabin','Embarked'],axis=1,inplace=True)"
   ]
  },
  {
   "cell_type": "code",
   "execution_count": 5,
   "id": "41e5ea7b",
   "metadata": {
    "execution": {
     "iopub.execute_input": "2022-03-06T14:16:18.702290Z",
     "iopub.status.busy": "2022-03-06T14:16:18.701651Z",
     "iopub.status.idle": "2022-03-06T14:16:18.706184Z",
     "shell.execute_reply": "2022-03-06T14:16:18.706773Z",
     "shell.execute_reply.started": "2022-03-06T14:15:04.046257Z"
    },
    "papermill": {
     "duration": 0.044288,
     "end_time": "2022-03-06T14:16:18.706967",
     "exception": false,
     "start_time": "2022-03-06T14:16:18.662679",
     "status": "completed"
    },
    "tags": []
   },
   "outputs": [
    {
     "data": {
      "text/plain": [
       "(891, 7)"
      ]
     },
     "execution_count": 5,
     "metadata": {},
     "output_type": "execute_result"
    }
   ],
   "source": [
    "data.shape"
   ]
  },
  {
   "cell_type": "code",
   "execution_count": 6,
   "id": "24387a42",
   "metadata": {
    "execution": {
     "iopub.execute_input": "2022-03-06T14:16:18.786588Z",
     "iopub.status.busy": "2022-03-06T14:16:18.785857Z",
     "iopub.status.idle": "2022-03-06T14:16:18.818155Z",
     "shell.execute_reply": "2022-03-06T14:16:18.818601Z",
     "shell.execute_reply.started": "2022-03-06T14:15:04.063162Z"
    },
    "papermill": {
     "duration": 0.074478,
     "end_time": "2022-03-06T14:16:18.818775",
     "exception": false,
     "start_time": "2022-03-06T14:16:18.744297",
     "status": "completed"
    },
    "tags": []
   },
   "outputs": [
    {
     "data": {
      "text/html": [
       "<div>\n",
       "<style scoped>\n",
       "    .dataframe tbody tr th:only-of-type {\n",
       "        vertical-align: middle;\n",
       "    }\n",
       "\n",
       "    .dataframe tbody tr th {\n",
       "        vertical-align: top;\n",
       "    }\n",
       "\n",
       "    .dataframe thead th {\n",
       "        text-align: right;\n",
       "    }\n",
       "</style>\n",
       "<table border=\"1\" class=\"dataframe\">\n",
       "  <thead>\n",
       "    <tr style=\"text-align: right;\">\n",
       "      <th></th>\n",
       "      <th>Survived</th>\n",
       "      <th>Pclass</th>\n",
       "      <th>Age</th>\n",
       "      <th>SibSp</th>\n",
       "      <th>Parch</th>\n",
       "      <th>Fare</th>\n",
       "    </tr>\n",
       "  </thead>\n",
       "  <tbody>\n",
       "    <tr>\n",
       "      <th>count</th>\n",
       "      <td>891.000000</td>\n",
       "      <td>891.000000</td>\n",
       "      <td>714.000000</td>\n",
       "      <td>891.000000</td>\n",
       "      <td>891.000000</td>\n",
       "      <td>891.000000</td>\n",
       "    </tr>\n",
       "    <tr>\n",
       "      <th>mean</th>\n",
       "      <td>0.383838</td>\n",
       "      <td>2.308642</td>\n",
       "      <td>29.699118</td>\n",
       "      <td>0.523008</td>\n",
       "      <td>0.381594</td>\n",
       "      <td>32.204208</td>\n",
       "    </tr>\n",
       "    <tr>\n",
       "      <th>std</th>\n",
       "      <td>0.486592</td>\n",
       "      <td>0.836071</td>\n",
       "      <td>14.526497</td>\n",
       "      <td>1.102743</td>\n",
       "      <td>0.806057</td>\n",
       "      <td>49.693429</td>\n",
       "    </tr>\n",
       "    <tr>\n",
       "      <th>min</th>\n",
       "      <td>0.000000</td>\n",
       "      <td>1.000000</td>\n",
       "      <td>0.420000</td>\n",
       "      <td>0.000000</td>\n",
       "      <td>0.000000</td>\n",
       "      <td>0.000000</td>\n",
       "    </tr>\n",
       "    <tr>\n",
       "      <th>25%</th>\n",
       "      <td>0.000000</td>\n",
       "      <td>2.000000</td>\n",
       "      <td>20.125000</td>\n",
       "      <td>0.000000</td>\n",
       "      <td>0.000000</td>\n",
       "      <td>7.910400</td>\n",
       "    </tr>\n",
       "    <tr>\n",
       "      <th>50%</th>\n",
       "      <td>0.000000</td>\n",
       "      <td>3.000000</td>\n",
       "      <td>28.000000</td>\n",
       "      <td>0.000000</td>\n",
       "      <td>0.000000</td>\n",
       "      <td>14.454200</td>\n",
       "    </tr>\n",
       "    <tr>\n",
       "      <th>75%</th>\n",
       "      <td>1.000000</td>\n",
       "      <td>3.000000</td>\n",
       "      <td>38.000000</td>\n",
       "      <td>1.000000</td>\n",
       "      <td>0.000000</td>\n",
       "      <td>31.000000</td>\n",
       "    </tr>\n",
       "    <tr>\n",
       "      <th>max</th>\n",
       "      <td>1.000000</td>\n",
       "      <td>3.000000</td>\n",
       "      <td>80.000000</td>\n",
       "      <td>8.000000</td>\n",
       "      <td>6.000000</td>\n",
       "      <td>512.329200</td>\n",
       "    </tr>\n",
       "  </tbody>\n",
       "</table>\n",
       "</div>"
      ],
      "text/plain": [
       "         Survived      Pclass         Age       SibSp       Parch        Fare\n",
       "count  891.000000  891.000000  714.000000  891.000000  891.000000  891.000000\n",
       "mean     0.383838    2.308642   29.699118    0.523008    0.381594   32.204208\n",
       "std      0.486592    0.836071   14.526497    1.102743    0.806057   49.693429\n",
       "min      0.000000    1.000000    0.420000    0.000000    0.000000    0.000000\n",
       "25%      0.000000    2.000000   20.125000    0.000000    0.000000    7.910400\n",
       "50%      0.000000    3.000000   28.000000    0.000000    0.000000   14.454200\n",
       "75%      1.000000    3.000000   38.000000    1.000000    0.000000   31.000000\n",
       "max      1.000000    3.000000   80.000000    8.000000    6.000000  512.329200"
      ]
     },
     "execution_count": 6,
     "metadata": {},
     "output_type": "execute_result"
    }
   ],
   "source": [
    "data.describe()"
   ]
  },
  {
   "cell_type": "code",
   "execution_count": 7,
   "id": "8f7644f8",
   "metadata": {
    "execution": {
     "iopub.execute_input": "2022-03-06T14:16:18.900384Z",
     "iopub.status.busy": "2022-03-06T14:16:18.899719Z",
     "iopub.status.idle": "2022-03-06T14:16:18.913047Z",
     "shell.execute_reply": "2022-03-06T14:16:18.912296Z",
     "shell.execute_reply.started": "2022-03-06T14:15:04.097444Z"
    },
    "papermill": {
     "duration": 0.056395,
     "end_time": "2022-03-06T14:16:18.913256",
     "exception": false,
     "start_time": "2022-03-06T14:16:18.856861",
     "status": "completed"
    },
    "tags": []
   },
   "outputs": [
    {
     "name": "stdout",
     "output_type": "stream",
     "text": [
      "<class 'pandas.core.frame.DataFrame'>\n",
      "RangeIndex: 891 entries, 0 to 890\n",
      "Data columns (total 7 columns):\n",
      " #   Column    Non-Null Count  Dtype  \n",
      "---  ------    --------------  -----  \n",
      " 0   Survived  891 non-null    int64  \n",
      " 1   Pclass    891 non-null    int64  \n",
      " 2   Sex       891 non-null    object \n",
      " 3   Age       714 non-null    float64\n",
      " 4   SibSp     891 non-null    int64  \n",
      " 5   Parch     891 non-null    int64  \n",
      " 6   Fare      891 non-null    float64\n",
      "dtypes: float64(2), int64(4), object(1)\n",
      "memory usage: 48.9+ KB\n"
     ]
    }
   ],
   "source": [
    "data.info()"
   ]
  },
  {
   "cell_type": "code",
   "execution_count": 8,
   "id": "8767894a",
   "metadata": {
    "execution": {
     "iopub.execute_input": "2022-03-06T14:16:18.996212Z",
     "iopub.status.busy": "2022-03-06T14:16:18.994361Z",
     "iopub.status.idle": "2022-03-06T14:16:19.003562Z",
     "shell.execute_reply": "2022-03-06T14:16:19.002791Z",
     "shell.execute_reply.started": "2022-03-06T14:15:04.111523Z"
    },
    "papermill": {
     "duration": 0.05113,
     "end_time": "2022-03-06T14:16:19.003721",
     "exception": false,
     "start_time": "2022-03-06T14:16:18.952591",
     "status": "completed"
    },
    "tags": []
   },
   "outputs": [
    {
     "data": {
      "text/plain": [
       "Age         177\n",
       "Survived      0\n",
       "Pclass        0\n",
       "Sex           0\n",
       "SibSp         0\n",
       "Parch         0\n",
       "Fare          0\n",
       "dtype: int64"
      ]
     },
     "execution_count": 8,
     "metadata": {},
     "output_type": "execute_result"
    }
   ],
   "source": [
    "data.isnull().sum().sort_values(ascending=False)"
   ]
  },
  {
   "cell_type": "code",
   "execution_count": 9,
   "id": "9b65625b",
   "metadata": {
    "execution": {
     "iopub.execute_input": "2022-03-06T14:16:19.094740Z",
     "iopub.status.busy": "2022-03-06T14:16:19.094005Z",
     "iopub.status.idle": "2022-03-06T14:16:19.097977Z",
     "shell.execute_reply": "2022-03-06T14:16:19.097450Z",
     "shell.execute_reply.started": "2022-03-06T14:15:04.127369Z"
    },
    "papermill": {
     "duration": 0.055263,
     "end_time": "2022-03-06T14:16:19.098110",
     "exception": false,
     "start_time": "2022-03-06T14:16:19.042847",
     "status": "completed"
    },
    "tags": []
   },
   "outputs": [
    {
     "data": {
      "text/html": [
       "<div>\n",
       "<style scoped>\n",
       "    .dataframe tbody tr th:only-of-type {\n",
       "        vertical-align: middle;\n",
       "    }\n",
       "\n",
       "    .dataframe tbody tr th {\n",
       "        vertical-align: top;\n",
       "    }\n",
       "\n",
       "    .dataframe thead th {\n",
       "        text-align: right;\n",
       "    }\n",
       "</style>\n",
       "<table border=\"1\" class=\"dataframe\">\n",
       "  <thead>\n",
       "    <tr style=\"text-align: right;\">\n",
       "      <th></th>\n",
       "      <th>column_name</th>\n",
       "      <th>percentage</th>\n",
       "    </tr>\n",
       "  </thead>\n",
       "  <tbody>\n",
       "    <tr>\n",
       "      <th>0</th>\n",
       "      <td>Survived</td>\n",
       "      <td>0.00000</td>\n",
       "    </tr>\n",
       "    <tr>\n",
       "      <th>1</th>\n",
       "      <td>Pclass</td>\n",
       "      <td>0.00000</td>\n",
       "    </tr>\n",
       "    <tr>\n",
       "      <th>2</th>\n",
       "      <td>Sex</td>\n",
       "      <td>0.00000</td>\n",
       "    </tr>\n",
       "    <tr>\n",
       "      <th>3</th>\n",
       "      <td>Age</td>\n",
       "      <td>19.86532</td>\n",
       "    </tr>\n",
       "    <tr>\n",
       "      <th>4</th>\n",
       "      <td>SibSp</td>\n",
       "      <td>0.00000</td>\n",
       "    </tr>\n",
       "    <tr>\n",
       "      <th>5</th>\n",
       "      <td>Parch</td>\n",
       "      <td>0.00000</td>\n",
       "    </tr>\n",
       "    <tr>\n",
       "      <th>6</th>\n",
       "      <td>Fare</td>\n",
       "      <td>0.00000</td>\n",
       "    </tr>\n",
       "  </tbody>\n",
       "</table>\n",
       "</div>"
      ],
      "text/plain": [
       "  column_name  percentage\n",
       "0    Survived     0.00000\n",
       "1      Pclass     0.00000\n",
       "2         Sex     0.00000\n",
       "3         Age    19.86532\n",
       "4       SibSp     0.00000\n",
       "5       Parch     0.00000\n",
       "6        Fare     0.00000"
      ]
     },
     "execution_count": 9,
     "metadata": {},
     "output_type": "execute_result"
    }
   ],
   "source": [
    "null_values=[(i,data[i].isna().mean()*100) for i in data]\n",
    "null_df=pd.DataFrame(null_values,columns=['column_name','percentage'])\n",
    "null_df"
   ]
  },
  {
   "cell_type": "code",
   "execution_count": 10,
   "id": "474a49e7",
   "metadata": {
    "execution": {
     "iopub.execute_input": "2022-03-06T14:16:19.180974Z",
     "iopub.status.busy": "2022-03-06T14:16:19.180026Z",
     "iopub.status.idle": "2022-03-06T14:16:19.185390Z",
     "shell.execute_reply": "2022-03-06T14:16:19.184789Z",
     "shell.execute_reply.started": "2022-03-06T14:15:04.148870Z"
    },
    "papermill": {
     "duration": 0.048271,
     "end_time": "2022-03-06T14:16:19.185536",
     "exception": false,
     "start_time": "2022-03-06T14:16:19.137265",
     "status": "completed"
    },
    "tags": []
   },
   "outputs": [],
   "source": [
    "data['Age']=data['Age'].fillna(data['Age'].mean())"
   ]
  },
  {
   "cell_type": "code",
   "execution_count": 11,
   "id": "72efb724",
   "metadata": {
    "execution": {
     "iopub.execute_input": "2022-03-06T14:16:19.267922Z",
     "iopub.status.busy": "2022-03-06T14:16:19.267328Z",
     "iopub.status.idle": "2022-03-06T14:16:19.275328Z",
     "shell.execute_reply": "2022-03-06T14:16:19.275804Z",
     "shell.execute_reply.started": "2022-03-06T14:15:04.156720Z"
    },
    "papermill": {
     "duration": 0.05,
     "end_time": "2022-03-06T14:16:19.275970",
     "exception": false,
     "start_time": "2022-03-06T14:16:19.225970",
     "status": "completed"
    },
    "tags": []
   },
   "outputs": [
    {
     "data": {
      "text/plain": [
       "Survived    0\n",
       "Pclass      0\n",
       "Sex         0\n",
       "Age         0\n",
       "SibSp       0\n",
       "Parch       0\n",
       "Fare        0\n",
       "dtype: int64"
      ]
     },
     "execution_count": 11,
     "metadata": {},
     "output_type": "execute_result"
    }
   ],
   "source": [
    "data.isnull().sum().sort_values(ascending=False)"
   ]
  },
  {
   "cell_type": "code",
   "execution_count": 12,
   "id": "54fb01d6",
   "metadata": {
    "execution": {
     "iopub.execute_input": "2022-03-06T14:16:19.364383Z",
     "iopub.status.busy": "2022-03-06T14:16:19.363654Z",
     "iopub.status.idle": "2022-03-06T14:16:19.367819Z",
     "shell.execute_reply": "2022-03-06T14:16:19.367287Z",
     "shell.execute_reply.started": "2022-03-06T14:15:04.179342Z"
    },
    "papermill": {
     "duration": 0.052314,
     "end_time": "2022-03-06T14:16:19.367953",
     "exception": false,
     "start_time": "2022-03-06T14:16:19.315639",
     "status": "completed"
    },
    "tags": []
   },
   "outputs": [
    {
     "data": {
      "text/plain": [
       "Index(['Survived', 'Pclass', 'Age', 'SibSp', 'Parch', 'Fare'], dtype='object')"
      ]
     },
     "execution_count": 12,
     "metadata": {},
     "output_type": "execute_result"
    }
   ],
   "source": [
    "numerical=data.select_dtypes(exclude=['object'])\n",
    "categorical=data.select_dtypes(include=['object'])\n",
    "numerical.columns"
   ]
  },
  {
   "cell_type": "code",
   "execution_count": 13,
   "id": "95c09b52",
   "metadata": {
    "execution": {
     "iopub.execute_input": "2022-03-06T14:16:19.451533Z",
     "iopub.status.busy": "2022-03-06T14:16:19.450860Z",
     "iopub.status.idle": "2022-03-06T14:16:19.915059Z",
     "shell.execute_reply": "2022-03-06T14:16:19.914415Z",
     "shell.execute_reply.started": "2022-03-06T14:15:04.194538Z"
    },
    "papermill": {
     "duration": 0.507254,
     "end_time": "2022-03-06T14:16:19.915210",
     "exception": false,
     "start_time": "2022-03-06T14:16:19.407956",
     "status": "completed"
    },
    "tags": []
   },
   "outputs": [
    {
     "data": {
      "text/plain": [
       "<AxesSubplot:>"
      ]
     },
     "execution_count": 13,
     "metadata": {},
     "output_type": "execute_result"
    },
    {
     "data": {
      "image/png": "[encoded data removed]",
      "text/plain": [
       "<Figure size 864x432 with 2 Axes>"
      ]
     },
     "metadata": {
      "needs_background": "light"
     },
     "output_type": "display_data"
    }
   ],
   "source": [
    "#Correlation Analysis\n",
    "plt.figure(figsize=(12, 6))\n",
    "sns.heatmap(numerical.corr(),  annot=True)"
   ]
  },
  {
   "cell_type": "code",
   "execution_count": 14,
   "id": "5f7aa922",
   "metadata": {
    "execution": {
     "iopub.execute_input": "2022-03-06T14:16:20.006818Z",
     "iopub.status.busy": "2022-03-06T14:16:20.005791Z",
     "iopub.status.idle": "2022-03-06T14:16:20.007706Z",
     "shell.execute_reply": "2022-03-06T14:16:20.008280Z",
     "shell.execute_reply.started": "2022-03-06T14:15:04.618594Z"
    },
    "papermill": {
     "duration": 0.051718,
     "end_time": "2022-03-06T14:16:20.008473",
     "exception": false,
     "start_time": "2022-03-06T14:16:19.956755",
     "status": "completed"
    },
    "tags": []
   },
   "outputs": [],
   "source": [
    "#'Fare' has a correlation with 'Pclass', so it is better to drop it.\n",
    "data.drop(['Fare'], axis=1, inplace=True)"
   ]
  },
  {
   "cell_type": "code",
   "execution_count": 15,
   "id": "a53bbe68",
   "metadata": {
    "execution": {
     "iopub.execute_input": "2022-03-06T14:16:20.096834Z",
     "iopub.status.busy": "2022-03-06T14:16:20.095965Z",
     "iopub.status.idle": "2022-03-06T14:16:20.099803Z",
     "shell.execute_reply": "2022-03-06T14:16:20.099173Z",
     "shell.execute_reply.started": "2022-03-06T14:15:04.624723Z"
    },
    "papermill": {
     "duration": 0.049966,
     "end_time": "2022-03-06T14:16:20.099935",
     "exception": false,
     "start_time": "2022-03-06T14:16:20.049969",
     "status": "completed"
    },
    "tags": []
   },
   "outputs": [
    {
     "data": {
      "text/plain": [
       "(891, 6)"
      ]
     },
     "execution_count": 15,
     "metadata": {},
     "output_type": "execute_result"
    }
   ],
   "source": [
    "data.shape"
   ]
  },
  {
   "cell_type": "code",
   "execution_count": 16,
   "id": "b8161b3e",
   "metadata": {
    "execution": {
     "iopub.execute_input": "2022-03-06T14:16:20.189980Z",
     "iopub.status.busy": "2022-03-06T14:16:20.189251Z",
     "iopub.status.idle": "2022-03-06T14:16:20.392559Z",
     "shell.execute_reply": "2022-03-06T14:16:20.393053Z",
     "shell.execute_reply.started": "2022-03-06T14:15:04.639656Z"
    },
    "papermill": {
     "duration": 0.251743,
     "end_time": "2022-03-06T14:16:20.393237",
     "exception": false,
     "start_time": "2022-03-06T14:16:20.141494",
     "status": "completed"
    },
    "tags": []
   },
   "outputs": [
    {
     "data": {
      "text/plain": [
       "<AxesSubplot:xlabel='Survived', ylabel='Age'>"
      ]
     },
     "execution_count": 16,
     "metadata": {},
     "output_type": "execute_result"
    },
    {
     "data": {
      "image/png": "[encoded data removed]",
      "text/plain": [
       "<Figure size 432x288 with 1 Axes>"
      ]
     },
     "metadata": {
      "needs_background": "light"
     },
     "output_type": "display_data"
    }
   ],
   "source": [
    "sns.boxplot( x='Survived', y='Age',data=data, showmeans=True)"
   ]
  },
  {
   "cell_type": "code",
   "execution_count": 17,
   "id": "6a3c4ba2",
   "metadata": {
    "execution": {
     "iopub.execute_input": "2022-03-06T14:16:20.484289Z",
     "iopub.status.busy": "2022-03-06T14:16:20.483612Z",
     "iopub.status.idle": "2022-03-06T14:16:20.715155Z",
     "shell.execute_reply": "2022-03-06T14:16:20.715875Z",
     "shell.execute_reply.started": "2022-03-06T14:15:04.839591Z"
    },
    "papermill": {
     "duration": 0.279545,
     "end_time": "2022-03-06T14:16:20.716038",
     "exception": false,
     "start_time": "2022-03-06T14:16:20.436493",
     "status": "completed"
    },
    "tags": []
   },
   "outputs": [
    {
     "data": {
      "text/plain": [
       "(array([0, 1]), [Text(0, 0, 'female'), Text(1, 0, 'male')])"
      ]
     },
     "execution_count": 17,
     "metadata": {},
     "output_type": "execute_result"
    },
    {
     "data": {
      "image/png": "[encoded data removed]",
      "text/plain": [
       "<Figure size 432x288 with 1 Axes>"
      ]
     },
     "metadata": {
      "needs_background": "light"
     },
     "output_type": "display_data"
    }
   ],
   "source": [
    "#Grouped and Stacked Bar Chart\n",
    "df_grouped = pd.crosstab(data['Sex'], data['Survived'])\n",
    "df_grouped.plot.bar(stacked = False)\n",
    "plt.legend(title =  'If Survived')\n",
    "plt.ylabel('frequency')\n",
    "plt.xticks(rotation = 0)"
   ]
  },
  {
   "cell_type": "code",
   "execution_count": 18,
   "id": "a6649d64",
   "metadata": {
    "execution": {
     "iopub.execute_input": "2022-03-06T14:16:20.812060Z",
     "iopub.status.busy": "2022-03-06T14:16:20.810999Z",
     "iopub.status.idle": "2022-03-06T14:16:20.826753Z",
     "shell.execute_reply": "2022-03-06T14:16:20.827294Z",
     "shell.execute_reply.started": "2022-03-06T14:15:05.060081Z"
    },
    "papermill": {
     "duration": 0.066758,
     "end_time": "2022-03-06T14:16:20.827480",
     "exception": false,
     "start_time": "2022-03-06T14:16:20.760722",
     "status": "completed"
    },
    "tags": []
   },
   "outputs": [
    {
     "data": {
      "text/html": [
       "<div>\n",
       "<style scoped>\n",
       "    .dataframe tbody tr th:only-of-type {\n",
       "        vertical-align: middle;\n",
       "    }\n",
       "\n",
       "    .dataframe tbody tr th {\n",
       "        vertical-align: top;\n",
       "    }\n",
       "\n",
       "    .dataframe thead th {\n",
       "        text-align: right;\n",
       "    }\n",
       "</style>\n",
       "<table border=\"1\" class=\"dataframe\">\n",
       "  <thead>\n",
       "    <tr style=\"text-align: right;\">\n",
       "      <th></th>\n",
       "      <th>Survived</th>\n",
       "      <th>Pclass</th>\n",
       "      <th>Age</th>\n",
       "      <th>SibSp</th>\n",
       "      <th>Parch</th>\n",
       "      <th>Sex_male</th>\n",
       "    </tr>\n",
       "  </thead>\n",
       "  <tbody>\n",
       "    <tr>\n",
       "      <th>0</th>\n",
       "      <td>0</td>\n",
       "      <td>3</td>\n",
       "      <td>22.000000</td>\n",
       "      <td>1</td>\n",
       "      <td>0</td>\n",
       "      <td>1</td>\n",
       "    </tr>\n",
       "    <tr>\n",
       "      <th>1</th>\n",
       "      <td>1</td>\n",
       "      <td>1</td>\n",
       "      <td>38.000000</td>\n",
       "      <td>1</td>\n",
       "      <td>0</td>\n",
       "      <td>0</td>\n",
       "    </tr>\n",
       "    <tr>\n",
       "      <th>2</th>\n",
       "      <td>1</td>\n",
       "      <td>3</td>\n",
       "      <td>26.000000</td>\n",
       "      <td>0</td>\n",
       "      <td>0</td>\n",
       "      <td>0</td>\n",
       "    </tr>\n",
       "    <tr>\n",
       "      <th>3</th>\n",
       "      <td>1</td>\n",
       "      <td>1</td>\n",
       "      <td>35.000000</td>\n",
       "      <td>1</td>\n",
       "      <td>0</td>\n",
       "      <td>0</td>\n",
       "    </tr>\n",
       "    <tr>\n",
       "      <th>4</th>\n",
       "      <td>0</td>\n",
       "      <td>3</td>\n",
       "      <td>35.000000</td>\n",
       "      <td>0</td>\n",
       "      <td>0</td>\n",
       "      <td>1</td>\n",
       "    </tr>\n",
       "    <tr>\n",
       "      <th>...</th>\n",
       "      <td>...</td>\n",
       "      <td>...</td>\n",
       "      <td>...</td>\n",
       "      <td>...</td>\n",
       "      <td>...</td>\n",
       "      <td>...</td>\n",
       "    </tr>\n",
       "    <tr>\n",
       "      <th>886</th>\n",
       "      <td>0</td>\n",
       "      <td>2</td>\n",
       "      <td>27.000000</td>\n",
       "      <td>0</td>\n",
       "      <td>0</td>\n",
       "      <td>1</td>\n",
       "    </tr>\n",
       "    <tr>\n",
       "      <th>887</th>\n",
       "      <td>1</td>\n",
       "      <td>1</td>\n",
       "      <td>19.000000</td>\n",
       "      <td>0</td>\n",
       "      <td>0</td>\n",
       "      <td>0</td>\n",
       "    </tr>\n",
       "    <tr>\n",
       "      <th>888</th>\n",
       "      <td>0</td>\n",
       "      <td>3</td>\n",
       "      <td>29.699118</td>\n",
       "      <td>1</td>\n",
       "      <td>2</td>\n",
       "      <td>0</td>\n",
       "    </tr>\n",
       "    <tr>\n",
       "      <th>889</th>\n",
       "      <td>1</td>\n",
       "      <td>1</td>\n",
       "      <td>26.000000</td>\n",
       "      <td>0</td>\n",
       "      <td>0</td>\n",
       "      <td>1</td>\n",
       "    </tr>\n",
       "    <tr>\n",
       "      <th>890</th>\n",
       "      <td>0</td>\n",
       "      <td>3</td>\n",
       "      <td>32.000000</td>\n",
       "      <td>0</td>\n",
       "      <td>0</td>\n",
       "      <td>1</td>\n",
       "    </tr>\n",
       "  </tbody>\n",
       "</table>\n",
       "<p>891 rows × 6 columns</p>\n",
       "</div>"
      ],
      "text/plain": [
       "     Survived  Pclass        Age  SibSp  Parch  Sex_male\n",
       "0           0       3  22.000000      1      0         1\n",
       "1           1       1  38.000000      1      0         0\n",
       "2           1       3  26.000000      0      0         0\n",
       "3           1       1  35.000000      1      0         0\n",
       "4           0       3  35.000000      0      0         1\n",
       "..        ...     ...        ...    ...    ...       ...\n",
       "886         0       2  27.000000      0      0         1\n",
       "887         1       1  19.000000      0      0         0\n",
       "888         0       3  29.699118      1      2         0\n",
       "889         1       1  26.000000      0      0         1\n",
       "890         0       3  32.000000      0      0         1\n",
       "\n",
       "[891 rows x 6 columns]"
      ]
     },
     "execution_count": 18,
     "metadata": {},
     "output_type": "execute_result"
    }
   ],
   "source": [
    "#\n",
    "data=pd.get_dummies(data, drop_first=True)\n",
    "data"
   ]
  },
  {
   "cell_type": "markdown",
   "id": "0d8b31c4",
   "metadata": {
    "papermill": {
     "duration": 0.045207,
     "end_time": "2022-03-06T14:16:20.918940",
     "exception": false,
     "start_time": "2022-03-06T14:16:20.873733",
     "status": "completed"
    },
    "tags": []
   },
   "source": [
    "# Building Models:"
   ]
  },
  {
   "cell_type": "code",
   "execution_count": 19,
   "id": "499e2168",
   "metadata": {
    "execution": {
     "iopub.execute_input": "2022-03-06T14:16:21.015223Z",
     "iopub.status.busy": "2022-03-06T14:16:21.014280Z",
     "iopub.status.idle": "2022-03-06T14:16:21.019773Z",
     "shell.execute_reply": "2022-03-06T14:16:21.020377Z",
     "shell.execute_reply.started": "2022-03-06T14:15:05.080347Z"
    },
    "papermill": {
     "duration": 0.055872,
     "end_time": "2022-03-06T14:16:21.020544",
     "exception": false,
     "start_time": "2022-03-06T14:16:20.964672",
     "status": "completed"
    },
    "tags": []
   },
   "outputs": [],
   "source": [
    "X = data.drop('Survived',axis=1)\n",
    "y = data['Survived']"
   ]
  },
  {
   "cell_type": "code",
   "execution_count": 20,
   "id": "65d11b38",
   "metadata": {
    "execution": {
     "iopub.execute_input": "2022-03-06T14:16:21.116103Z",
     "iopub.status.busy": "2022-03-06T14:16:21.114911Z",
     "iopub.status.idle": "2022-03-06T14:16:21.260699Z",
     "shell.execute_reply": "2022-03-06T14:16:21.261228Z",
     "shell.execute_reply.started": "2022-03-06T14:15:05.091596Z"
    },
    "papermill": {
     "duration": 0.195224,
     "end_time": "2022-03-06T14:16:21.261434",
     "exception": false,
     "start_time": "2022-03-06T14:16:21.066210",
     "status": "completed"
    },
    "tags": []
   },
   "outputs": [],
   "source": [
    "from sklearn.model_selection import train_test_split\n",
    "X_train, X_test, y_train, y_test =train_test_split (X, y, test_size=0.2, random_state=42)"
   ]
  },
  {
   "cell_type": "code",
   "execution_count": 21,
   "id": "1c306d2e",
   "metadata": {
    "execution": {
     "iopub.execute_input": "2022-03-06T14:16:21.360610Z",
     "iopub.status.busy": "2022-03-06T14:16:21.358140Z",
     "iopub.status.idle": "2022-03-06T14:16:21.364304Z",
     "shell.execute_reply": "2022-03-06T14:16:21.364863Z",
     "shell.execute_reply.started": "2022-03-06T14:15:05.108391Z"
    },
    "papermill": {
     "duration": 0.058156,
     "end_time": "2022-03-06T14:16:21.365030",
     "exception": false,
     "start_time": "2022-03-06T14:16:21.306874",
     "status": "completed"
    },
    "tags": []
   },
   "outputs": [],
   "source": [
    "sc=StandardScaler()\n",
    "X_train=sc.fit_transform(X_train)\n",
    "X_test=sc.transform(X_test)"
   ]
  },
  {
   "cell_type": "markdown",
   "id": "26245908",
   "metadata": {
    "papermill": {
     "duration": 0.044364,
     "end_time": "2022-03-06T14:16:21.454452",
     "exception": false,
     "start_time": "2022-03-06T14:16:21.410088",
     "status": "completed"
    },
    "tags": []
   },
   "source": [
    "## 1. LogisticRegression"
   ]
  },
  {
   "cell_type": "code",
   "execution_count": 22,
   "id": "a89733b7",
   "metadata": {
    "execution": {
     "iopub.execute_input": "2022-03-06T14:16:21.549043Z",
     "iopub.status.busy": "2022-03-06T14:16:21.548402Z",
     "iopub.status.idle": "2022-03-06T14:16:21.635613Z",
     "shell.execute_reply": "2022-03-06T14:16:21.634864Z",
     "shell.execute_reply.started": "2022-03-06T14:15:05.128238Z"
    },
    "papermill": {
     "duration": 0.13657,
     "end_time": "2022-03-06T14:16:21.635781",
     "exception": false,
     "start_time": "2022-03-06T14:16:21.499211",
     "status": "completed"
    },
    "tags": []
   },
   "outputs": [],
   "source": [
    "from sklearn.linear_model import LogisticRegression\n"
   ]
  },
  {
   "cell_type": "code",
   "execution_count": 23,
   "id": "0502828d",
   "metadata": {
    "execution": {
     "iopub.execute_input": "2022-03-06T14:16:21.730721Z",
     "iopub.status.busy": "2022-03-06T14:16:21.729967Z",
     "iopub.status.idle": "2022-03-06T14:16:21.740030Z",
     "shell.execute_reply": "2022-03-06T14:16:21.739476Z",
     "shell.execute_reply.started": "2022-03-06T14:15:05.134796Z"
    },
    "papermill": {
     "duration": 0.05933,
     "end_time": "2022-03-06T14:16:21.740191",
     "exception": false,
     "start_time": "2022-03-06T14:16:21.680861",
     "status": "completed"
    },
    "tags": []
   },
   "outputs": [
    {
     "data": {
      "text/plain": [
       "LogisticRegression(random_state=42, solver='liblinear')"
      ]
     },
     "execution_count": 23,
     "metadata": {},
     "output_type": "execute_result"
    }
   ],
   "source": [
    "log_reg=LogisticRegression(random_state=42, solver=\"liblinear\")\n",
    "log_reg.fit(X_train,y_train)"
   ]
  },
  {
   "cell_type": "code",
   "execution_count": 24,
   "id": "99be143a",
   "metadata": {
    "execution": {
     "iopub.execute_input": "2022-03-06T14:16:21.835727Z",
     "iopub.status.busy": "2022-03-06T14:16:21.835053Z",
     "iopub.status.idle": "2022-03-06T14:16:21.838636Z",
     "shell.execute_reply": "2022-03-06T14:16:21.839163Z",
     "shell.execute_reply.started": "2022-03-06T14:15:05.150158Z"
    },
    "papermill": {
     "duration": 0.05297,
     "end_time": "2022-03-06T14:16:21.839357",
     "exception": false,
     "start_time": "2022-03-06T14:16:21.786387",
     "status": "completed"
    },
    "tags": []
   },
   "outputs": [],
   "source": [
    "y_pred=log_reg.predict(X_test)"
   ]
  },
  {
   "cell_type": "code",
   "execution_count": 25,
   "id": "81f56658",
   "metadata": {
    "execution": {
     "iopub.execute_input": "2022-03-06T14:16:21.933795Z",
     "iopub.status.busy": "2022-03-06T14:16:21.933147Z",
     "iopub.status.idle": "2022-03-06T14:16:21.938265Z",
     "shell.execute_reply": "2022-03-06T14:16:21.938780Z",
     "shell.execute_reply.started": "2022-03-06T14:15:05.159240Z"
    },
    "papermill": {
     "duration": 0.053925,
     "end_time": "2022-03-06T14:16:21.938949",
     "exception": false,
     "start_time": "2022-03-06T14:16:21.885024",
     "status": "completed"
    },
    "tags": []
   },
   "outputs": [
    {
     "data": {
      "text/plain": [
       "0.8212290502793296"
      ]
     },
     "execution_count": 25,
     "metadata": {},
     "output_type": "execute_result"
    }
   ],
   "source": [
    "accuracy_score(y_test, y_pred)"
   ]
  },
  {
   "cell_type": "markdown",
   "id": "7509d797",
   "metadata": {
    "papermill": {
     "duration": 0.047763,
     "end_time": "2022-03-06T14:16:22.033984",
     "exception": false,
     "start_time": "2022-03-06T14:16:21.986221",
     "status": "completed"
    },
    "tags": []
   },
   "source": [
    "## 2. Naive Bayes Classifer"
   ]
  },
  {
   "cell_type": "code",
   "execution_count": 26,
   "id": "68d17004",
   "metadata": {
    "execution": {
     "iopub.execute_input": "2022-03-06T14:16:22.131711Z",
     "iopub.status.busy": "2022-03-06T14:16:22.130969Z",
     "iopub.status.idle": "2022-03-06T14:16:22.135289Z",
     "shell.execute_reply": "2022-03-06T14:16:22.135857Z",
     "shell.execute_reply.started": "2022-03-06T14:15:05.173632Z"
    },
    "papermill": {
     "duration": 0.055988,
     "end_time": "2022-03-06T14:16:22.136029",
     "exception": false,
     "start_time": "2022-03-06T14:16:22.080041",
     "status": "completed"
    },
    "tags": []
   },
   "outputs": [],
   "source": [
    "from sklearn.naive_bayes import GaussianNB"
   ]
  },
  {
   "cell_type": "code",
   "execution_count": 27,
   "id": "bd6943ac",
   "metadata": {
    "execution": {
     "iopub.execute_input": "2022-03-06T14:16:22.235263Z",
     "iopub.status.busy": "2022-03-06T14:16:22.234594Z",
     "iopub.status.idle": "2022-03-06T14:16:22.239051Z",
     "shell.execute_reply": "2022-03-06T14:16:22.239581Z",
     "shell.execute_reply.started": "2022-03-06T14:15:05.188196Z"
    },
    "papermill": {
     "duration": 0.054866,
     "end_time": "2022-03-06T14:16:22.239755",
     "exception": false,
     "start_time": "2022-03-06T14:16:22.184889",
     "status": "completed"
    },
    "tags": []
   },
   "outputs": [],
   "source": [
    "model_nb = GaussianNB().fit(X_train, y_train)"
   ]
  },
  {
   "cell_type": "code",
   "execution_count": 28,
   "id": "b2bd0397",
   "metadata": {
    "execution": {
     "iopub.execute_input": "2022-03-06T14:16:22.336688Z",
     "iopub.status.busy": "2022-03-06T14:16:22.335369Z",
     "iopub.status.idle": "2022-03-06T14:16:22.338876Z",
     "shell.execute_reply": "2022-03-06T14:16:22.339500Z",
     "shell.execute_reply.started": "2022-03-06T14:15:05.201881Z"
    },
    "papermill": {
     "duration": 0.053781,
     "end_time": "2022-03-06T14:16:22.339670",
     "exception": false,
     "start_time": "2022-03-06T14:16:22.285889",
     "status": "completed"
    },
    "tags": []
   },
   "outputs": [],
   "source": [
    "#Prediction on test\n",
    "y_pred_nb = model_nb.predict(X_test)\n"
   ]
  },
  {
   "cell_type": "code",
   "execution_count": 29,
   "id": "f23bcd12",
   "metadata": {
    "execution": {
     "iopub.execute_input": "2022-03-06T14:16:22.435083Z",
     "iopub.status.busy": "2022-03-06T14:16:22.434494Z",
     "iopub.status.idle": "2022-03-06T14:16:22.439878Z",
     "shell.execute_reply": "2022-03-06T14:16:22.440466Z",
     "shell.execute_reply.started": "2022-03-06T14:15:05.214281Z"
    },
    "papermill": {
     "duration": 0.05514,
     "end_time": "2022-03-06T14:16:22.440634",
     "exception": false,
     "start_time": "2022-03-06T14:16:22.385494",
     "status": "completed"
    },
    "tags": []
   },
   "outputs": [
    {
     "data": {
      "text/plain": [
       "0.7597765363128491"
      ]
     },
     "execution_count": 29,
     "metadata": {},
     "output_type": "execute_result"
    }
   ],
   "source": [
    "accuracy_score(y_test,y_pred_nb)"
   ]
  },
  {
   "cell_type": "markdown",
   "id": "03b9b7d8",
   "metadata": {
    "papermill": {
     "duration": 0.045663,
     "end_time": "2022-03-06T14:16:22.533391",
     "exception": false,
     "start_time": "2022-03-06T14:16:22.487728",
     "status": "completed"
    },
    "tags": []
   },
   "source": [
    "## 3. Linear Discriminant Analysis(LDA)"
   ]
  },
  {
   "cell_type": "code",
   "execution_count": 30,
   "id": "33de8c56",
   "metadata": {
    "execution": {
     "iopub.execute_input": "2022-03-06T14:16:22.630215Z",
     "iopub.status.busy": "2022-03-06T14:16:22.629581Z",
     "iopub.status.idle": "2022-03-06T14:16:22.642945Z",
     "shell.execute_reply": "2022-03-06T14:16:22.643522Z",
     "shell.execute_reply.started": "2022-03-06T14:15:05.229319Z"
    },
    "papermill": {
     "duration": 0.064556,
     "end_time": "2022-03-06T14:16:22.643716",
     "exception": false,
     "start_time": "2022-03-06T14:16:22.579160",
     "status": "completed"
    },
    "tags": []
   },
   "outputs": [],
   "source": [
    "from sklearn.discriminant_analysis import LinearDiscriminantAnalysis"
   ]
  },
  {
   "cell_type": "code",
   "execution_count": 31,
   "id": "1af5c8e3",
   "metadata": {
    "execution": {
     "iopub.execute_input": "2022-03-06T14:16:22.738582Z",
     "iopub.status.busy": "2022-03-06T14:16:22.737965Z",
     "iopub.status.idle": "2022-03-06T14:16:22.760167Z",
     "shell.execute_reply": "2022-03-06T14:16:22.760698Z",
     "shell.execute_reply.started": "2022-03-06T14:15:05.240409Z"
    },
    "papermill": {
     "duration": 0.071177,
     "end_time": "2022-03-06T14:16:22.760867",
     "exception": false,
     "start_time": "2022-03-06T14:16:22.689690",
     "status": "completed"
    },
    "tags": []
   },
   "outputs": [],
   "source": [
    "model_lda = LinearDiscriminantAnalysis().fit(X_train, y_train)"
   ]
  },
  {
   "cell_type": "code",
   "execution_count": 32,
   "id": "829fd582",
   "metadata": {
    "execution": {
     "iopub.execute_input": "2022-03-06T14:16:22.856210Z",
     "iopub.status.busy": "2022-03-06T14:16:22.855587Z",
     "iopub.status.idle": "2022-03-06T14:16:22.859261Z",
     "shell.execute_reply": "2022-03-06T14:16:22.859870Z",
     "shell.execute_reply.started": "2022-03-06T14:15:05.253942Z"
    },
    "papermill": {
     "duration": 0.052745,
     "end_time": "2022-03-06T14:16:22.860033",
     "exception": false,
     "start_time": "2022-03-06T14:16:22.807288",
     "status": "completed"
    },
    "tags": []
   },
   "outputs": [],
   "source": [
    "#Prediction on test\n",
    "y_pred_lda = model_lda.predict(X_test)\n"
   ]
  },
  {
   "cell_type": "code",
   "execution_count": 33,
   "id": "2654014d",
   "metadata": {
    "execution": {
     "iopub.execute_input": "2022-03-06T14:16:22.962551Z",
     "iopub.status.busy": "2022-03-06T14:16:22.961492Z",
     "iopub.status.idle": "2022-03-06T14:16:22.968200Z",
     "shell.execute_reply": "2022-03-06T14:16:22.968814Z",
     "shell.execute_reply.started": "2022-03-06T14:15:05.265425Z"
    },
    "papermill": {
     "duration": 0.063321,
     "end_time": "2022-03-06T14:16:22.968982",
     "exception": false,
     "start_time": "2022-03-06T14:16:22.905661",
     "status": "completed"
    },
    "tags": []
   },
   "outputs": [
    {
     "data": {
      "text/plain": [
       "0.7932960893854749"
      ]
     },
     "execution_count": 33,
     "metadata": {},
     "output_type": "execute_result"
    }
   ],
   "source": [
    "accuracy_score(y_test,y_pred_lda)"
   ]
  }
 ],
 "metadata": {
  "kernelspec": {
   "display_name": "Python 3 (ipykernel)",
   "language": "python",
   "name": "python3"
  },
  "language_info": {
   "codemirror_mode": {
    "name": "ipython",
    "version": 3
   },
   "file_extension": ".py",
   "mimetype": "text/x-python",
   "name": "python",
   "nbconvert_exporter": "python",
   "pygments_lexer": "ipython3",
   "version": "3.9.13"
  },
  "papermill": {
   "default_parameters": {},
   "duration": 17.422935,
   "end_time": "2022-03-06T14:16:23.921722",
   "environment_variables": {},
   "exception": null,
   "input_path": "__notebook__.ipynb",
   "output_path": "__notebook__.ipynb",
   "parameters": {},
   "start_time": "2022-03-06T14:16:06.498787",
   "version": "2.3.3"
  }
 },
 "nbformat": 4,
 "nbformat_minor": 5
}
